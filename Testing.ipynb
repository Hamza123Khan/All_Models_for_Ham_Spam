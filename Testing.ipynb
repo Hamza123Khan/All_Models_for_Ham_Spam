{
  "cells": [
    {
      "cell_type": "code",
      "execution_count": null,
      "id": "d0db97b1",
      "metadata": {
        "colab": {
          "base_uri": "https://localhost:8080/"
        },
        "id": "d0db97b1",
        "outputId": "783ac199-16ba-45b2-b0f1-211c42753e33"
      },
      "outputs": [
        {
          "output_type": "stream",
          "name": "stderr",
          "text": [
            "WARNING:absl:Compiled the loaded model, but the compiled metrics have yet to be built. `model.compile_metrics` will be empty until you train or evaluate the model.\n"
          ]
        },
        {
          "output_type": "stream",
          "name": "stdout",
          "text": [
            "Phishing Probability: 0.4080\n",
            "Predicted Label: Legitimate\n"
          ]
        }
      ],
      "source": [
        "from tensorflow.keras.models import load_model\n",
        "from tensorflow.keras.preprocessing.sequence import pad_sequences\n",
        "import pickle\n",
        "import json\n",
        "import re\n",
        "\n",
        "# Load model\n",
        "model = load_model(\"/content/phishing_model.h5\")\n",
        "\n",
        "# Load tokenizer\n",
        "with open(\"/content/tokenizer.pkl\", \"rb\") as f:\n",
        "    tokenizer = pickle.load(f)\n",
        "\n",
        "# Load max_seq_length\n",
        "with open(\"/content/config.json\", \"r\") as f:\n",
        "    config = json.load(f)\n",
        "max_seq_length = config[\"max_seq_length\"]\n",
        "\n",
        "# Clean text function (same as before)\n",
        "def clean_text(text):\n",
        "    text = text.lower()\n",
        "    text = re.sub(r'<.*?>', '', text)\n",
        "    text = re.sub(r'[^a-z0-9\\s]', '', text)\n",
        "    text = re.sub(r'\\s+', ' ', text).strip()\n",
        "    return text\n",
        "\n",
        "# Sample email to test\n",
        "sample_email = \"\"\"\n",
        "🤯 The 'AI Jobpocalypse' Edition 🤯\n",
        "\n",
        "Radically Remote is LinkedIn’s largest community for AI-first remote leaders who want to stay on the pulse but don't have time for a snoozefest. Every 2 weeks we bring you the latest global news, jobs, trends & insights on the future of work.\n",
        "\n",
        "By Andrew Allen and Carla Dewing\n",
        "\n",
        "\n",
        "This Week's Edition:\n",
        "⚡ We crack open the reality behind AI and why you should let it take your job\n",
        "\n",
        "⚡ Andrew visits a VP in Andorra who drove across Europe with his dogs\n",
        "\n",
        "⚡ Find out how Najeeha Humayun juggles an elite career while expecting!\n",
        "\n",
        "📄 Remote Work Bytes ⚡ Quick! Let AI Take Your Job!\n",
        "\n",
        "🔫 Ever feel like AI is gunning for your job?\n",
        "\n",
        "Here’s why you should let it. Seriously.\n",
        "\n",
        "This isn’t the end of your career - it’s the plot twist that will make you unstoppable. AI is rewriting every job description on the planet.\n",
        "\n",
        "Tasks? Gone. Roles? Blurred. Timelines? Accelerated.\n",
        "\n",
        "And while most people are scrambling to keep up, top talent is doing something smarter. They're handing the job to AI > and upgrading themselves into something way more powerful.\n",
        "\n",
        "This is your ultimate mindset reset.\n",
        "\n",
        "You’ll meet Olympic shooter Manu Bhaker, whose comeback story is the perfect metaphor for thriving in chaos. She didn’t train harder, she changed her brain.\n",
        "\n",
        "Because the one skill that will NEVER be automated is belief. And we’re showing you how to use it to turn disruption into domination.\n",
        "\n",
        "Ready to replace yourself - on purpose?\n",
        "\n",
        "💥 Read the article now!\n",
        "\"\"\"\n",
        "\n",
        "# Predict\n",
        "cleaned = clean_text(sample_email)\n",
        "seq = tokenizer.texts_to_sequences([cleaned])\n",
        "padded = pad_sequences(seq, maxlen=max_seq_length, padding='post')\n",
        "prediction = model.predict(padded, verbose=0)\n",
        "\n",
        "# Output result\n",
        "phishing_prob = prediction[0][0]\n",
        "label = \"Phishing\" if phishing_prob >= 0.5 else \"Legitimate\"\n",
        "print(f\"Phishing Probability: {phishing_prob:.4f}\")\n",
        "print(f\"Predicted Label: {label}\")\n"
      ]
    },
    {
      "cell_type": "code",
      "execution_count": null,
      "id": "b6004413",
      "metadata": {
        "id": "b6004413"
      },
      "outputs": [],
      "source": []
    }
  ],
  "metadata": {
    "kernelspec": {
      "display_name": "Python 3",
      "name": "python3"
    },
    "language_info": {
      "codemirror_mode": {
        "name": "ipython",
        "version": 3
      },
      "file_extension": ".py",
      "mimetype": "text/x-python",
      "name": "python",
      "nbconvert_exporter": "python",
      "pygments_lexer": "ipython3",
      "version": "3.11.2"
    },
    "colab": {
      "provenance": [],
      "gpuType": "T4",
      "toc_visible": true
    },
    "accelerator": "GPU"
  },
  "nbformat": 4,
  "nbformat_minor": 5
}